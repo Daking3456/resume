{
 "cells": [
  {
   "cell_type": "code",
   "execution_count": 1,
   "metadata": {},
   "outputs": [],
   "source": [
    "from sklearn.externals import joblib"
   ]
  },
  {
   "cell_type": "code",
   "execution_count": 12,
   "metadata": {},
   "outputs": [],
   "source": [
    "def resume_verifier(text_file):\n",
    "    print(text_file)\n",
    "    open_pickle = open('static_local/ML/doc_classifier_nb_model.sav', 'rb')\n",
    "    modl = joblib.load(open_pickle)\n",
    "    open_pickle.close()\n",
    "\n",
    "    raw_doc = []\n",
    "    raw_doc.append(text_file)\n",
    "\n",
    "# Document Prediction [ 0 - Not Resume, 1 - Resume]\n",
    "    doc_pred = modl.predict(raw_doc)\n",
    "    print(\"____________________________________--______________________\")\n",
    "    print(\"Prediction:\", doc_pred[0])\n",
    "    print(doc_pred)\n",
    "    print(type(doc_pred[0]))\n",
    "    return True"
   ]
  },
  {
   "cell_type": "code",
   "execution_count": 18,
   "metadata": {},
   "outputs": [
    {
     "name": "stdout",
     "output_type": "stream",
     "text": [
      "I am here\n",
      "b'Staff at Google offices around the world are staging an unprecedented series of walkouts in protest at the company\\'s treatment of women.\\n\\nThe employees are demanding several key changes in how sexual misconduct allegations are dealt with at the firm, including a call to end forced arbitration - a move which would make it possible for victims to sue.\\n\\nGoogle chief executive Sundar Pichai has told staff he supports their right to take the action.\\n\\n\"I understand the anger and disappointment that many of you feel,\" he said in an all-staff email.\\n\\n\"I feel it as well, and I am fully committed to making progress on an issue that has persisted for far too long in our society\\xe2\\x80\\xa6 and, yes, here at Google, too.\"'\n",
      "____________________________________--______________________\n",
      "Prediction: 2\n",
      "[2]\n",
      "<class 'numpy.int64'>\n"
     ]
    },
    {
     "data": {
      "text/plain": [
       "True"
      ]
     },
     "execution_count": 18,
     "metadata": {},
     "output_type": "execute_result"
    }
   ],
   "source": [
    "a = open('abc sad1.txt','rb')\n",
    "resume_verifier(a.read())"
   ]
  },
  {
   "cell_type": "code",
   "execution_count": null,
   "metadata": {},
   "outputs": [],
   "source": []
  },
  {
   "cell_type": "code",
   "execution_count": null,
   "metadata": {},
   "outputs": [],
   "source": []
  }
 ],
 "metadata": {
  "kernelspec": {
   "display_name": "Python 3",
   "language": "python",
   "name": "python3"
  },
  "language_info": {
   "codemirror_mode": {
    "name": "ipython",
    "version": 3
   },
   "file_extension": ".py",
   "mimetype": "text/x-python",
   "name": "python",
   "nbconvert_exporter": "python",
   "pygments_lexer": "ipython3",
   "version": "3.6.5"
  }
 },
 "nbformat": 4,
 "nbformat_minor": 2
}
